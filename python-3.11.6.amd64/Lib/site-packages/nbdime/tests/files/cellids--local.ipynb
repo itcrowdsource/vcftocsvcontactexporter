{
 "cells": [
  {
   "cell_type": "code",
   "execution_count": 1,
   "id": "885cad67",
   "metadata": {
    "collapsed": true
   },
   "outputs": [],
   "source": [
    "def f(x):\n",
    "    return x**2"
   ]
  },
  {
   "cell_type": "code",
   "execution_count": 2,
   "id": "c2c4a8f2",
   "metadata": {
    "collapsed": true
   },
   "outputs": [],
   "source": [
    "x = 5"
   ]
  },
  {
   "cell_type": "code",
   "execution_count": 3,
   "id": "0c3a036c",
   "metadata": {
    "collapsed": false
   },
   "outputs": [
    {
     "data": {
      "text/plain": [
       "25"
      ]
     },
     "execution_count": 3,
     "metadata": {},
     "output_type": "execute_result"
    }
   ],
   "source": [
    "f(x)"
   ]
  },
  {
   "cell_type": "code",
   "execution_count": 4,
   "id": "ac5427e8",
   "metadata": {
    "collapsed": true
   },
   "outputs": [],
   "source": [
    "x = 3"
   ]
  },
  {
   "cell_type": "code",
   "execution_count": 5,
   "id": "4ee12f52",
   "metadata": {
    "collapsed": false
   },
   "outputs": [
    {
     "data": {
      "text/plain": [
       "9"
      ]
     },
     "execution_count": 5,
     "metadata": {},
     "output_type": "execute_result"
    }
   ],
   "source": [
    "f(x)"
   ]
  },
  {
   "cell_type": "code",
   "execution_count": 6,
   "id": "bfe12f52",
   "metadata": {
    "collapsed": true
   },
   "outputs": [],
   "source": [
    "LOCAL - with unique ID"
   ]
  },
  {
   "cell_type": "code",
   "execution_count": 7,
   "id": "local-A",
   "metadata": {
    "collapsed": true
   },
   "outputs": [],
   "source": [
    "LOCAL #2 - with unique ID"
   ]
  },
  {
   "cell_type": "code",
   "execution_count": null,
   "id": "226e3ff8",
   "metadata": {
    "collapsed": true
   },
   "outputs": [],
   "source": []
  }
 ],
 "metadata": {
  "kernelspec": {
   "display_name": "Python 2",
   "language": "python",
   "name": "python2"
  },
  "language_info": {
   "codemirror_mode": {
    "name": "ipython",
    "version": 2
   },
   "file_extension": ".py",
   "mimetype": "text/x-python",
   "name": "python",
   "nbconvert_exporter": "python",
   "pygments_lexer": "ipython2",
   "version": "2.7.11"
  }
 },
 "nbformat": 4,
 "nbformat_minor": 5
}
