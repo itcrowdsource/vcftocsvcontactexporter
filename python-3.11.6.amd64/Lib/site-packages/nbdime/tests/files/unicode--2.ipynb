{
 "cells": [
  {
   "cell_type": "markdown",
   "metadata": {},
   "source": [
    "The Norwegian alphabet contains the letters æøå which are outside the ASCII charset.\n",
    "\n",
    "Many languages such as French contain accented letters such as è, é, ê.\n",
    "\n",
    "Some libraries print mathematical symbols such as\n",
    "\n",
    "Greek letters such as δ, Σ, and θ are popular in mathematics.\n",
    "\n",
    "Einstein is famous for the formula e=mc²."
   ]
  }
 ],
 "metadata": {
  "kernelspec": {
   "display_name": "Python 2",
   "language": "python",
   "name": "python2"
  },
  "language_info": {
   "codemirror_mode": {
    "name": "ipython",
    "version": 2
   },
   "file_extension": ".py",
   "mimetype": "text/x-python",
   "name": "python",
   "nbconvert_exporter": "python",
   "pygments_lexer": "ipython2",
   "version": "2.7.12"
  }
 },
 "nbformat": 4,
 "nbformat_minor": 1
}
