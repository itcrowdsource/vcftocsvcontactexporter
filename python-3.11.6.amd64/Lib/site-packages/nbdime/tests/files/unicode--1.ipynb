{
 "cells": [
  {
   "cell_type": "markdown",
   "metadata": {},
   "source": [
    "The Norwegian alphabet contains the letters æøå which are outside the ASCII charset.\n",
    "\n",
    "Many languages such as French contain accented letters such as è, é, ê.\n",
    "\n",
    "Some libraries print mathematical symbols such as\n",
    "\n",
    "Einstein is famous for the formula e=mc².\n",
    "\n",
    "There's 360° in a circle, and 1 µm is 10⁻⁶ m."
   ]
  }
 ],
 "metadata": {
  "kernelspec": {
   "display_name": "Python 2",
   "language": "python",
   "name": "python2"
  },
  "language_info": {
   "codemirror_mode": {
    "name": "ipython",
    "version": 2
   },
   "file_extension": ".py",
   "mimetype": "text/x-python",
   "name": "python",
   "nbconvert_exporter": "python",
   "pygments_lexer": "ipython2",
   "version": "2.7.12"
  }
 },
 "nbformat": 4,
 "nbformat_minor": 1
}
