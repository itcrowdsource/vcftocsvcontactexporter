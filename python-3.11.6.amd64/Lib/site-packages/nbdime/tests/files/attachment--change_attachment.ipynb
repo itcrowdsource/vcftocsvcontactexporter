{
 "cells": [
  {
   "cell_type": "markdown",
   "metadata": {},
   "source": [
    "This is a test notebook with only markdown cells\n",
    " ![inline image](attachment:test.png)\n",
    "======"
   ],
   "attachments" : {
    "test.png": {
     "image/png" : "[encoded data removed]"
    }
   }
  }
 ],
 "metadata": {
  "celltoolbar": "Raw Cell Format",
  "kernelspec": {
   "display_name": "Python 3",
   "language": "python",
   "name": "python3"
  },
  "language_info": {
   "codemirror_mode": {
    "name": "ipython",
    "version": 3
   },
   "file_extension": ".py",
   "mimetype": "text/x-python",
   "name": "python",
   "nbconvert_exporter": "python",
   "pygments_lexer": "ipython3",
   "version": "3.5.2"
  }
 },
 "nbformat": 4,
 "nbformat_minor": 0
}
