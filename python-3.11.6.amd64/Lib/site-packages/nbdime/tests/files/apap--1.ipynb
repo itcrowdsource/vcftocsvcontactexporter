{
 "cells": [
  {
   "cell_type": "markdown",
   "metadata": {},
   "source": [
    "Ipsum lorem:"
   ]
  },
  {
   "cell_type": "code",
   "execution_count": 4,
   "metadata": {
    "collapsed": false
   },
   "outputs": [
    {
     "data": {
      "image/png" : "[encoded data removed]",
      "text/plain": [
       "<matplotlib.figure.Figure at 0x106d1b198>"
      ]
     },
     "metadata": {
      "image/png": {
       "height": 403,
       "width": 596
      }
     },
     "output_type": "display_data"
    }
   ],
   "source": [
    "Some lines\n",
    "To help with\n",
    "Alignment\n",
    "Another one bites the dust\n"
   ]
  }
 ],
 "metadata": {
  "kernelspec": {
   "display_name": "Python 3",
   "language": "python",
   "name": "python3"
  },
  "language_info": {
   "codemirror_mode": {
    "name": "ipython",
    "version": 3
   },
   "file_extension": ".py",
   "mimetype": "text/x-python",
   "name": "python",
   "nbconvert_exporter": "python",
   "pygments_lexer": "ipython3",
   "version": "3.5.2"
  }
 },
 "nbformat": 4,
 "nbformat_minor": 0
}
