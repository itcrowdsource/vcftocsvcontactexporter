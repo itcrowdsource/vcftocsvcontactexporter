{
  "metadata": {
    "language_info": {
      "file_extension": ".py",
      "mimetype": "text/x-python",
      "name": "python",
      "version": "3.10.2"
    },
    "kernelspec": {
      "name": "xeus-python",
      "display_name": "Python (XPython)",
      "language": "python"
    }
  },
  "nbformat_minor": 4,
  "nbformat": 4,
  "cells": [
    {
      "cell_type": "code",
      "source": "# from ipydatagrid examples\nimport numpy as np\nimport pandas as pd\nfrom bqplot import DateScale, ColorScale\nfrom py2vega.functions.type_coercing import toDate\nfrom py2vega.functions.date_time import datetime\n\nfrom ipydatagrid import Expr, DataGrid, TextRenderer, BarRenderer\n\nn = 10000\n\ndf = pd.DataFrame(\n    {\n        \"Value 1\": np.random.randn(n),\n        \"Value 2\": np.random.randn(n),\n        \"Dates\": pd.date_range(end=pd.Timestamp(\"today\"), periods=n),\n    }\n)\n\ntext_renderer = TextRenderer(\n    text_color=\"black\", background_color=ColorScale(min=-5, max=5)\n)\n\n\ndef bar_color(cell):\n    date = toDate(cell.value)\n    return \"green\" if date > datetime(\"2000\") else \"red\"\n\n\nrenderers = {\n    \"Value 1\": text_renderer,\n    \"Value 2\": text_renderer,\n    \"Dates\": BarRenderer(\n        bar_value=DateScale(min=df[\"Dates\"][0], max=df[\"Dates\"][n - 1]),\n        bar_color=Expr(bar_color),\n        format=\"%Y/%m/%d\",\n        format_type=\"time\",\n    ),\n}\n\ngrid = DataGrid(df, base_row_size=30, base_column_size=300, renderers=renderers)\ngrid.transform([{\"type\": \"sort\", \"columnIndex\": 2, \"desc\": True}])\ngrid",
      "metadata": {
        "scrolled": true,
        "tags": [],
        "trusted": true
      },
      "execution_count": null,
      "outputs": []
    },
    {
      "cell_type": "code",
      "source": "import ipydatagrid as ipg\nimport pandas as pd\nimport numpy as np\n\n# Columns\ncol_top_level = [\n    \"VeryLongValueFactors\",\n    \"VeryLongValueFactors\",\n    \"Even Longer Momentum Factors\",\n    \"Even Longer Momentum Factors\",\n]\ncol_bottom_level = [\"Factor_A\", \"Factor_B\", \"Factor_C\", \"Factor_D\"]\n\n# Rows\nrow_top_level = [\"Sector 1\", \"Sector 1\", \"Sector 2\", \"Sector 2\"]\nrow_bottom_level = [\"Security A\", \"Security B\", \"Security C\", \"Security D\"]\n\nheader_renderer = ipg.TextRenderer(\n    background_color=\"moccasin\",\n    text_color=\"navy\",\n    vertical_alignment=\"top\",\n    horizontal_alignment=\"center\",\n)\n\ndefault_renderer = ipg.TextRenderer(\n    text_color=ipg.VegaExpr(\"cell.value <= 0 ? 'purple' : 'green'\")\n)\n\nnested_df = pd.DataFrame(\n    np.random.randn(4, 4).round(4),\n    columns=pd.MultiIndex.from_arrays([col_top_level, col_bottom_level]),\n    index=pd.MultiIndex.from_arrays(\n        [row_top_level, row_bottom_level], names=(\"Sector\", \"Ticker\")\n    ),\n)\n\nnested_grid = ipg.DataGrid(\n    nested_df,\n    base_column_size=80,\n    base_column_header_size=35,\n    base_row_header_size=80,\n    layout={\"height\": \"180px\"},\n    header_renderer=header_renderer,\n    default_renderer=default_renderer,\n)\n\nnested_grid",
      "metadata": {
        "trusted": true
      },
      "execution_count": null,
      "outputs": []
    },
    {
      "cell_type": "markdown",
      "source": "# ipydatagrid\n## HyperlinkRenderer\nA renderer which allows for rendering text-based clickable links as cells in your DataGrid. It takes two parameters:\n\nurl: A Vega Expression function which points to a full URL (with the http(s) prefix)\nurlName: A Vega Expression function which points to a friendly URL display name\n\n### To preserve default cell selections behaviour, a link can only be opened by clicking whilst holding the Ctrl or Command key pressed.\n\nThe HyperlinkRenderer can be styled using all properties supported by the TextRenderer!",
      "metadata": {}
    },
    {
      "cell_type": "code",
      "source": "import pandas as pd\nimport numpy as np\nfrom ipydatagrid import VegaExpr, DataGrid, TextRenderer, HyperlinkRenderer\n\ndf = pd.DataFrame(\n    data={\n        \"Name\": [\"Tech at Bloomberg\"],\n        \"Link\": [[\"https://www.techatbloomberg.com/\", \"Tech at BBG Website\"]],\n    }\n)\n\nlink_renderer = HyperlinkRenderer(\n    url=VegaExpr(\"cell.value[0]\"),\n    url_name=VegaExpr(\"cell.value[1]\"),\n    background_color=\"moccasin\",\n    text_color=\"blue\",\n    font=\"bold 14px Arial, sans-serif\",\n)\n\n\ngrid = DataGrid(\n    df,\n    layout={\"height\": \"120px\"},\n    base_column_size=200,\n    renderers={\"Link\": link_renderer},\n)\ngrid",
      "metadata": {
        "trusted": true
      },
      "execution_count": null,
      "outputs": []
    },
    {
      "cell_type": "code",
      "source": "",
      "metadata": {},
      "execution_count": null,
      "outputs": []
    }
  ]
}