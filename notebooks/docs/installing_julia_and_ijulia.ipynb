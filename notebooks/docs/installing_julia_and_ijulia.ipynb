{
 "cells": [
  {
   "cell_type": "markdown",
   "metadata": {
    "tags": []
   },
   "source": [
    "# Installating Julia/IJulia (version of 2019-08-25)\n",
    "\n",
    "### Warning: as of 2019-08-25, the Julia installation is not supposed to support a move of Winpython library\n",
    "\n",
    "Read also https://pyjulia.readthedocs.io/en/latest/installation.html#step-1-install-julia\n",
    "\n",
    "Other intesting notes:\n",
    "or https://discourse.julialang.org/t/using-jupyterlab/20595/2\n",
    "or https://blog.jupyter.org/i-python-you-r-we-julia-baf064ca1fb6"
   ]
  },
  {
   "cell_type": "markdown",
   "metadata": {
    "tags": []
   },
   "source": [
    "### 1 - Downloading and Installing the right Julia binary in the right place"
   ]
  },
  {
   "cell_type": "code",
   "execution_count": null,
   "metadata": {
    "tags": []
   },
   "outputs": [],
   "source": [
    "!echo %winpydirbase%\n",
    "!if not exist \"%winpydirbase%\\t\\Julia\" mkdir \"%winpydirbase%\\t\\Julia\"\n",
    "!echo \"%winpydirbase%\\t\\Julia\""
   ]
  },
  {
   "cell_type": "markdown",
   "metadata": {
    "tags": []
   },
   "source": [
    "Download the latest 64 bit portable version of Julia (1.9.3 at the time of writing) from https://julialang.org/downloads/ .\n",
    "\n",
    "Please make sure you check the checksums.\n",
    "\n",
    "Extract the zip file in %winpydirbase%\\t\\Julia"
   ]
  },
  {
   "cell_type": "markdown",
   "metadata": {},
   "source": [
    "### 2 - Initialize Julia , IJulia, and make them link to winpython\n",
    "From here on we assume that Julia has been extracted in %winpydirbase%\\t\\Julia"
   ]
  },
  {
   "cell_type": "code",
   "execution_count": null,
   "metadata": {},
   "outputs": [],
   "source": [
    "# will be in env next time\n",
    "import os\n",
    "os.environ[\"JULIA_HOME\"] = os.environ[\"WINPYDIR\"]+\"\\\\..\\\\t\\\\Julia\\\\bin\\\\\"\n",
    "os.environ[\"JULIA_EXE\"]=\"julia.exe\"\n",
    "os.environ[\"JULIA\"]=os.environ[\"JULIA_HOME\"]+os.environ[\"JULIA_EXE\"]\n",
    "os.environ[\"JULIA_PKGDIR\"]=os.environ[\"WINPYDIRBASE\"]+\"\\\\settings\\\\.julia\""
   ]
  },
  {
   "cell_type": "code",
   "execution_count": null,
   "metadata": {},
   "outputs": [],
   "source": [
    "# connecting Julia to WinPython (only once, or everytime you move things)\n",
    "import julia\n",
    "julia.install()"
   ]
  },
  {
   "cell_type": "code",
   "execution_count": null,
   "metadata": {},
   "outputs": [],
   "source": [
    "%load_ext julia.magic"
   ]
  },
  {
   "cell_type": "code",
   "execution_count": null,
   "metadata": {},
   "outputs": [],
   "source": [
    "%%julia  \n",
    "import Pkg;\n",
    "Pkg.add(\"PyPlot\")\n",
    "Pkg.add(\"Interact\")\n",
    "Pkg.add(\"Compose\")\n",
    "Pkg.add(\"SymPy\")\n",
    "Pkg.add(\"JuMP\")\n",
    "Pkg.add(\"Ipopt\")\n",
    "Pkg.add(\"IJulia\")"
   ]
  },
  {
   "cell_type": "markdown",
   "metadata": {},
   "source": [
    "### 3 - Launching a Julia Notebook \n",
    "Choose a Julia Kernel from Notebook, or Julia from Jupyterlab Launcher"
   ]
  },
  {
   "cell_type": "markdown",
   "metadata": {},
   "source": [
    "### 4 - Julia Magic \n",
    "or use %load_ext julia.magic then %julia or %%julia"
   ]
  },
  {
   "cell_type": "code",
   "execution_count": null,
   "metadata": {},
   "outputs": [],
   "source": [
    "import julia\n",
    "%matplotlib inline\n",
    "%load_ext julia.magic"
   ]
  },
  {
   "cell_type": "code",
   "execution_count": null,
   "metadata": {},
   "outputs": [],
   "source": [
    "# since Julia 1.x ''@pyimport foo' is replaced per 'foo = pyimport(\"foo\")'' \n",
    "%julia plt = pyimport(\"matplotlib.pyplot\")\n",
    "%julia np = pyimport(\"numpy\")"
   ]
  },
  {
   "cell_type": "code",
   "execution_count": null,
   "metadata": {},
   "outputs": [],
   "source": [
    "%%julia                                        \n",
    "t = np.linspace(0, 2*pi,1000);             \n",
    "s = np.sin(3*t + 4*np.cos(2*t));           \n",
    "fig = plt.gcf()                         \n",
    "plt.plot(t, s, color=\"red\", linewidth=2.0, linestyle=\"--\", label=\"sin(3t+4.cos(2t))\")"
   ]
  },
  {
   "cell_type": "code",
   "execution_count": null,
   "metadata": {
    "tags": []
   },
   "outputs": [],
   "source": [
    "from julia import Main as jl\n",
    "print(jl.eval(\"1+31\"))\n",
    "print(jl.eval(\"sqrt(1+31)\"))"
   ]
  }
 ],
 "metadata": {
  "kernelspec": {
   "display_name": "Python 3 (ipykernel)",
   "language": "python",
   "name": "python3"
  },
  "language_info": {
   "codemirror_mode": {
    "name": "ipython",
    "version": 3
   },
   "file_extension": ".py",
   "mimetype": "text/x-python",
   "name": "python",
   "nbconvert_exporter": "python",
   "pygments_lexer": "ipython3",
   "version": "3.11.4"
  }
 },
 "nbformat": 4,
 "nbformat_minor": 4
}
